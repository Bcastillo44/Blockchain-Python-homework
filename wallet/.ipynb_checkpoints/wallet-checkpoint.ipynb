{
 "cells": [
  {
   "cell_type": "code",
   "execution_count": 2,
   "metadata": {},
   "outputs": [],
   "source": [
    "import subprocess\n",
    "import json\n",
    "\n",
    "from constants import *"
   ]
  },
  {
   "cell_type": "code",
   "execution_count": 3,
   "metadata": {},
   "outputs": [],
   "source": [
    "import os"
   ]
  },
  {
   "cell_type": "code",
   "execution_count": 9,
   "metadata": {},
   "outputs": [],
   "source": [
    "mnemonic = os.getenv('MNEMONIC', 'mutual school mind brown staff sense scissors office trick destroy stable measure')"
   ]
  },
  {
   "cell_type": "code",
   "execution_count": 12,
   "metadata": {},
   "outputs": [
    {
     "name": "stdout",
     "output_type": "stream",
     "text": [
      "mutual school mind brown staff sense scissors office trick destroy stable measure\n"
     ]
    }
   ],
   "source": [
    "print(mnemonic)"
   ]
  },
  {
   "cell_type": "code",
   "execution_count": null,
   "metadata": {},
   "outputs": [],
   "source": [
    "command = './derive -g --mnemonic=\"mutual school mind brown staff sense scissors office trick destroy stable measure\" --cols=path,address,privkey,pubkey --format=json'"
   ]
  },
  {
   "cell_type": "code",
   "execution_count": null,
   "metadata": {},
   "outputs": [],
   "source": [
    "p = subprocess.Popen(command, stdout=subprocess.PIPE, shell=True)\n",
    "output, err = p.communicate()\n",
    "p_status = p.wait()"
   ]
  },
  {
   "cell_type": "code",
   "execution_count": null,
   "metadata": {},
   "outputs": [],
   "source": [
    "keys = json.loads(output)\n",
    "print(keys)"
   ]
  },
  {
   "cell_type": "code",
   "execution_count": null,
   "metadata": {},
   "outputs": [],
   "source": [
    "def derive_wallets(mnemonic, coin, numderive):\n",
    "    command = 'php hd-wallet-derive.php -g --mnemonic=\"'+str(mnemonic)+'\" --numderive='+str(numderive)+' --coin='+str(coin)+' --format=jsonpretty' \n",
    "    p = subprocess.Popen(command, stdout=subprocess.PIPE, shell=True)\n",
    "    (output, err) = p.communicate()\n",
    "    return json.loads(output)"
   ]
  },
  {
   "cell_type": "code",
   "execution_count": null,
   "metadata": {},
   "outputs": [],
   "source": [
    "# Create a coin object to hold child wallets\n",
    "coins = {'eth':derive_wallets(mnemonic=mnemonic,coin=ETH,numderive=3),'btc-test': derive_wallets(mnemonic=mnemonic,coin=BTCTEST,numderive=3)}\n",
    "\n",
    "eth_privatekey = coins['eth'][0]['privkey']\n",
    "btc_privatekey = coins['btc-test'][0]['privkey']\n",
    "\n",
    "def priv_key_to_account(coin, priv_key):\n",
    "    \"\"\"Convert the privkey string in a child key to an account object that bit or web3.py can use to transact\"\"\"\n",
    "    if coin == ETH:\n",
    "        return Account.privateKeyToAccount(priv_key)\n",
    "    if coin == BTCTEST:\n",
    "        return PrivateKeyTestnet(priv_key)\n",
    "    \n",
    "eth_account = priv_key_to_account(ETH,eth_privatekey)\n",
    "btc_account = priv_key_to_account(BTCTEST,btc_privatekey)\n",
    "\n",
    "def create_tx(coin, account, recipient, amount):\n",
    "    \"\"\"create the raw, unsigned transaction that contains all metadata needed to transact\"\"\"\n",
    "    global tx_data\n",
    "    if coin ==ETH:\n",
    "        gasEstimate = w3.eth.estimateGas(\n",
    "            {\"from\": account.address, \"to\": recipient, \"value\": amount}\n",
    "        )\n",
    "        tx_data = {\n",
    "            \"to\": recipient,\n",
    "            \"from\": account.address,\n",
    "            \"value\": amount,\n",
    "            \"gasPrice\": w3.eth.gasPrice,\n",
    "            \"gas\": gasEstimate,\n",
    "            \"nonce\": w3.eth.getTransactionCount(account.address)\n",
    "        }\n",
    "        return tx_data\n",
    "\n",
    "    if coin == BTCTEST:\n",
    "        return PrivateKeyTestnet.prepare_transaction(account.address, [(recipient, amount, BTC)])   \n",
    "\n",
    "def send_tx(coin, account, recipient, amount):\n",
    "    \"\"\"call create_tx, sign the transaction, then send it to the designated network\"\"\"\n",
    "    if coin =='ETH':\n",
    "        tx_eth = create_tx(coin,account, recipient, amount)\n",
    "        sign_tx_eth = account.sign_transaction(tx_eth)\n",
    "        result = w3.eth.sendRawTransaction(sign_tx_eth.rawTransaction)\n",
    "        print(result.hex())\n",
    "        return result.hex()\n",
    "    else:\n",
    "        tx_btctest= create_tx(coin,account,recipient,amount)\n",
    "        sign_tx_btctest = account.sign_transaction(tx_btctest)\n",
    "        from bit.network import NetworkAPI\n",
    "        NetworkAPI.broadcast_tx_testnet(sign_tx_btctest)       \n",
    "        return sign_tx_btctest"
   ]
  }
 ],
 "metadata": {
  "kernelspec": {
   "display_name": "Python [conda env:blockchain] *",
   "language": "python",
   "name": "conda-env-blockchain-py"
  },
  "language_info": {
   "codemirror_mode": {
    "name": "ipython",
    "version": 3
   },
   "file_extension": ".py",
   "mimetype": "text/x-python",
   "name": "python",
   "nbconvert_exporter": "python",
   "pygments_lexer": "ipython3",
   "version": "3.7.7"
  }
 },
 "nbformat": 4,
 "nbformat_minor": 4
}
